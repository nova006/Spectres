{
 "cells": [
  {
   "cell_type": "markdown",
   "metadata": {},
   "source": [
    "   # MISE A JOUR BASE DE DONNEES SPECTRALES UVEX"
   ]
  },
  {
   "cell_type": "markdown",
   "metadata": {},
   "source": [
    "## Veuillez choisir un fichier à uploader dans la base "
   ]
  },
  {
   "cell_type": "code",
   "execution_count": 2,
   "metadata": {
    "scrolled": true
   },
   "outputs": [
    {
     "name": "stdout",
     "output_type": "stream",
     "text": [
      " Fichier sélectionné : X:/ETOILES BE/phi Per/phi Per_20200214_IR.fit\n"
     ]
    }
   ],
   "source": [
    "import mysql.connector\n",
    "import datetime \n",
    "import os\n",
    "import numpy as np\n",
    "from astropy.wcs import WCS\n",
    "from astropy.io import fits\n",
    "from mysql.connector import errorcode\n",
    "from ftplib import FTP\n",
    "from tkinter import filedialog \n",
    "from tkinter import *\n",
    "from io import BytesIO \n",
    "    \n",
    "root = Tk() \n",
    "root.filename= filedialog.askopenfilename (initialdir = \"X:/spectres/\" , title = \"Select file\" , filetypes = [( \"fit files\" , \"*.fit\" ), ( \"fits files\" , \" *. fits\" )]) \n",
    "print (\" Fichier sélectionné : \" + root.filename)\n",
    "file=root.filename\n",
    "root.destroy()"
   ]
  },
  {
   "cell_type": "markdown",
   "metadata": {},
   "source": [
    "## Entête fits du fichier selectionné"
   ]
  },
  {
   "cell_type": "code",
   "execution_count": 3,
   "metadata": {},
   "outputs": [
    {
     "name": "stdout",
     "output_type": "stream",
     "text": [
      "Filename: X:/ETOILES BE/phi Per/phi Per_20200214_IR.fit\n",
      "No.    Name      Ver    Type      Cards   Dimensions   Format\n",
      "  0  PRIMARY       1 PrimaryHDU      30   (20613,)   float32   \n",
      "None\n",
      "SIMPLE : True\n",
      "BITPIX : -32\n",
      "NAXIS : 1\n",
      "NAXIS1 : 20613\n",
      "CRVAL1 : 7565.629393\n",
      "CDELT1 : 0.09085995\n",
      "VERSION : ISIS V5.9.7\n",
      "OBJNAME : Phi Per\n",
      "DATE-OBS : 2020-02-14T22:56:36\n",
      "EXPTIME : -21\n",
      "EXPTIME2 : 10 x 300 s\n",
      "BSS_INST : LX200GPS 12\" + UVEX 600 tr/mm blaze 750 nm + ASI 183\n",
      "BSS_SITE : Observatoire du Thiey\n",
      "BSS_ITRP : 3106\n",
      "OBSERVER : JL MARTIN\n",
      "CUNIT1 : Angstrom\n",
      "CTYPE1 : Wavelength\n",
      "Q_CAL : 0\n",
      "CRPIX1 : 1\n",
      "BSS_VHEL : 0\n",
      "BSS_COSM : Removed\n",
      "BSS_TELL : None\n",
      "BSS_NORM : None\n",
      "SPE_RPOW : 3106\n",
      "JD-OBS : 2458894.456\n",
      "JD-MID : 2458894.4559\n",
      "JD-HEL : 0\n",
      "GEO_LONG : 1.50858\n",
      "GEO_LAT : 43.51728\n",
      "GEO_ELEV : 150\n"
     ]
    },
    {
     "name": "stderr",
     "output_type": "stream",
     "text": [
      "WARNING: VerifyWarning: Keyword name 'INSTRUMEN' is greater than 8 characters or contains characters not allowed by the FITS standard; a HIERARCH card will be created. [astropy.io.fits.card]\n"
     ]
    }
   ],
   "source": [
    "sp = fits.open(file)\n",
    "print(sp.info())\n",
    "header = sp[0].header\n",
    "\n",
    "for cle,valeur in header.items():\n",
    "    print(str(cle)+ \" : \" + str(valeur))\n",
    "\n",
    "if not('BSS_ESRP' in header) :\n",
    "    header['BSS_ESRP']=0\n",
    "if not('BSS_SRPW' in header) :\n",
    "    header['BSS_SRPW']=0\n",
    "if not('BSS_BINN' in header) :\n",
    "    header['BSS_BINN']=1\n",
    "if not('BSS_VMAG' in header) :\n",
    "    header['BSS_VMAG']=0\n",
    "if not('BSS_STYP' in header) :\n",
    "    header['BSS_STYP']=''\n",
    "if not('BSS_LAT' in header) :\n",
    "    header['BSS_LAT']=0\n",
    "if not('BSS_LONG' in header) :\n",
    "    header['BSS_LONG']=0\n",
    "if not('BSS_ELEV' in header) :\n",
    "    header['BSS_ELEV']=0\n",
    "if not('TELESCOP' in header) :\n",
    "    header['TELESCOP']=''\n",
    "if not('DETNAM' in header) :\n",
    "    header['DETNAM']=''\n",
    "if not('INSTRUMEN' in header) :\n",
    "    header['INSTRUMEN']=''\n",
    "if not('RA' in header) :\n",
    "    header['RA']=''\n",
    "if not('DEC' in header) :\n",
    "    header['DEC']=''\n",
    "    \n",
    "wcs = WCS(header)\n"
   ]
  },
  {
   "cell_type": "markdown",
   "metadata": {},
   "source": [
    "## Insertion dans la base de données UVEX "
   ]
  },
  {
   "cell_type": "code",
   "execution_count": 5,
   "metadata": {
    "scrolled": true
   },
   "outputs": [
    {
     "name": "stdout",
     "output_type": "stream",
     "text": [
      "Nom de fichier sauvegardé dans BD : 2020-04-01_Phi Per_2020-02-14T22:56:36.fit\n",
      "Insertion dans la BD effectuée\n",
      "Fichier uploadé \n"
     ]
    }
   ],
   "source": [
    "filename= datetime.datetime.today().strftime('%Y-%m-%d')+'_'+header['OBJNAME']+'_'+header['DATE-OBS']+\".fit\"\n",
    "print(\"Nom de fichier sauvegardé dans BD : \" + filename)\n",
    "\n",
    "try:\n",
    "    #cnx=mysql.connector.connect(user='root',password='',host='127.0.0.1',database='bd_uvex')\n",
    "    #cnx=mysql.connector.connect(user='root@localhost',password='Malibert006@',host='192.168.1.7',database='BD_UVEX',port='3307')\n",
    "    cnx=mysql.connector.connect(user='u429156696_uvex30',password='Malibert006@',host='sql289.main-hosting.eu',database='u429156696_bd_uvex')\n",
    "except mysql.connector.Error as err:\n",
    "    if err.errno == errorcode.ER_ACCESS_DENIED_ERROR:  \n",
    "        print(\"Something is wrong with your user name or password\")\n",
    "    elif err.errno == errorcode.ER_BAD_DB_ERROR:\n",
    "        print(\"Database does not exist\")\n",
    "    else:\n",
    "        print(err)\n",
    "H=header\n",
    "mycursor=cnx.cursor()\n",
    "sql=\"insert into SPECTRE (DATE_OBS,EXPTIME,EXPTIME2,CRVAL1,CDELT1,CRPIX1,CUNIT1,CTYPE1,BSS_ESRP,BSS_ITRP,BSS_SRPW,BSS_BINN,BSS_VMAG,BSS_STYP,BSS_SITE,BSS_LAT,BSS_LONG,BSS_ELEV,TELESCOP,DETNAM,INSTRUMEN,OBSERVER,RA,DECLI,OBJNAME,JD_MID,JD_HEL,JD_OBS,FILENAME) values (%s,%s,%s,%s,%s,%s,%s,%s,%s,%s,%s,%s,%s,%s,%s,%s,%s,%s,%s,%s,%s,%s,%s,%s,%s,%s,%s,%s,%s)\"\n",
    "val=(H['DATE-OBS'],H['EXPTIME'],H['EXPTIME2'],H['CRVAL1'],H['CDELT1'],H['CRPIX1'],H['CUNIT1'],H['CTYPE1'],H['BSS_ESRP'],H['BSS_ITRP'],H['BSS_SRPW'],H['BSS_BINN'],H['BSS_VMAG'],H['BSS_STYP'],H['BSS_SITE'],H['BSS_LAT'],H['BSS_LONG'],H['BSS_ELEV'],H['TELESCOP'],H['DETNAM'],H['INSTRUMEN'],H['OBSERVER'],H['RA'],H['DEC'],H['OBJNAME'],H['JD-MID'],H['JD-HEL'],H['JD-OBS'],filename)\n",
    "mycursor.execute(sql,val)\n",
    "cnx.commit()\n",
    "print(\"Insertion dans la BD effectuée\")\n",
    "\n",
    "host = \"81.16.28.179\" # adresse du serveur FTP\n",
    "user = \"u429156696\" # votre identifiant\n",
    "password = \"Malibert006@\" # votre mot de passe\n",
    "ftp=FTP(host=host)\n",
    "ftp.login(user=user,passwd=password)\n",
    "fichier = open(file, 'rb') \n",
    "ftp.storbinary('STOR '+ '/BD_SPECTRES/'+filename,fichier)   \n",
    "fichier.close()\n",
    "print('Fichier uploadé ')\n"
   ]
  },
  {
   "cell_type": "code",
   "execution_count": null,
   "metadata": {},
   "outputs": [],
   "source": []
  }
 ],
 "metadata": {
  "kernelspec": {
   "display_name": "Python 3",
   "language": "python",
   "name": "python3"
  },
  "language_info": {
   "codemirror_mode": {
    "name": "ipython",
    "version": 3
   },
   "file_extension": ".py",
   "mimetype": "text/x-python",
   "name": "python",
   "nbconvert_exporter": "python",
   "pygments_lexer": "ipython3",
   "version": "3.7.4"
  }
 },
 "nbformat": 4,
 "nbformat_minor": 2
}
